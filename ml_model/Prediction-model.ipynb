{
 "cells": [
  {
   "cell_type": "code",
   "execution_count": 1,
   "metadata": {
    "collapsed": true
   },
   "outputs": [],
   "source": [
    "from pymongo import MongoClient\n",
    "import numpy as np\n",
    "import pandas as pd\n",
    "from matplotlib import pyplot as plt\n",
    "%matplotlib inline\n",
    "import seaborn as sns\n",
    "from sklearn.ensemble import RandomForestRegressor as RFR\n",
    "import json\n",
    "import random"
   ]
  },
  {
   "cell_type": "code",
   "execution_count": 2,
   "metadata": {
    "collapsed": true
   },
   "outputs": [],
   "source": [
    "client = MongoClient()"
   ]
  },
  {
   "cell_type": "code",
   "execution_count": 3,
   "metadata": {
    "collapsed": true
   },
   "outputs": [],
   "source": [
    "db = client.precog_fb_data"
   ]
  },
  {
   "cell_type": "code",
   "execution_count": 4,
   "metadata": {
    "collapsed": true
   },
   "outputs": [],
   "source": [
    "events = db.events\n",
    "cursor = events.find({})\n",
    "all_events = []\n",
    "for event in cursor:\n",
    "    all_events.append(event) "
   ]
  },
  {
   "cell_type": "code",
   "execution_count": 5,
   "metadata": {},
   "outputs": [
    {
     "data": {
      "text/plain": [
       "1043"
      ]
     },
     "execution_count": 5,
     "metadata": {},
     "output_type": "execute_result"
    }
   ],
   "source": [
    "len(all_events)"
   ]
  },
  {
   "cell_type": "code",
   "execution_count": 6,
   "metadata": {
    "collapsed": true
   },
   "outputs": [],
   "source": [
    "json_data = all_events"
   ]
  },
  {
   "cell_type": "code",
   "execution_count": 7,
   "metadata": {
    "collapsed": true
   },
   "outputs": [],
   "source": [
    "remove_col = ['owner', 'timezone', '_id', 'id', 'is_page_owned', 'is_canceled', 'can_viewer_post', 'declined_count', 'description', 'start_time', 'is_draft', 'parent_group', 'is_viewer_admin', 'name', 'cover', 'place', 'end_time', 'updated_time', 'ticket_uri', 'ticketing_privacy_uri', 'ticketing_terms_uri', 'type']"
   ]
  },
  {
   "cell_type": "code",
   "execution_count": 8,
   "metadata": {
    "collapsed": true
   },
   "outputs": [],
   "source": [
    "for item in remove_col:\n",
    "    for event in json_data:\n",
    "        event.pop(item, None)"
   ]
  },
  {
   "cell_type": "code",
   "execution_count": 9,
   "metadata": {},
   "outputs": [
    {
     "name": "stdout",
     "output_type": "stream",
     "text": [
      "{\"noreply_count\": 3026, \"category\": \"food\", \"attending_count\": 3739, \"can_guests_invite\": true, \"interested_count\": 9787, \"guest_list_enabled\": true, \"maybe_count\": 9787}"
     ]
    }
   ],
   "source": [
    "import sys\n",
    "json.dump(json_data[4], sys.stdout)"
   ]
  },
  {
   "cell_type": "code",
   "execution_count": 10,
   "metadata": {
    "collapsed": true
   },
   "outputs": [],
   "source": [
    "df = pd.io.json.json_normalize(json_data)"
   ]
  },
  {
   "cell_type": "code",
   "execution_count": 11,
   "metadata": {
    "collapsed": true
   },
   "outputs": [],
   "source": [
    "df.columns = df.columns.map(lambda x: x.split(\".\")[-1])"
   ]
  },
  {
   "cell_type": "code",
   "execution_count": 12,
   "metadata": {
    "collapsed": true
   },
   "outputs": [],
   "source": [
    "ds = df"
   ]
  },
  {
   "cell_type": "code",
   "execution_count": 13,
   "metadata": {},
   "outputs": [
    {
     "data": {
      "text/html": [
       "<div>\n",
       "<style>\n",
       "    .dataframe thead tr:only-child th {\n",
       "        text-align: right;\n",
       "    }\n",
       "\n",
       "    .dataframe thead th {\n",
       "        text-align: left;\n",
       "    }\n",
       "\n",
       "    .dataframe tbody tr th {\n",
       "        vertical-align: top;\n",
       "    }\n",
       "</style>\n",
       "<table border=\"1\" class=\"dataframe\">\n",
       "  <thead>\n",
       "    <tr style=\"text-align: right;\">\n",
       "      <th></th>\n",
       "      <th>attending_count</th>\n",
       "      <th>can_guests_invite</th>\n",
       "      <th>category</th>\n",
       "      <th>guest_list_enabled</th>\n",
       "      <th>interested_count</th>\n",
       "      <th>maybe_count</th>\n",
       "      <th>noreply_count</th>\n",
       "    </tr>\n",
       "  </thead>\n",
       "  <tbody>\n",
       "    <tr>\n",
       "      <th>0</th>\n",
       "      <td>644</td>\n",
       "      <td>True</td>\n",
       "      <td>food</td>\n",
       "      <td>True</td>\n",
       "      <td>5582</td>\n",
       "      <td>5582</td>\n",
       "      <td>531</td>\n",
       "    </tr>\n",
       "    <tr>\n",
       "      <th>1</th>\n",
       "      <td>846</td>\n",
       "      <td>True</td>\n",
       "      <td>food</td>\n",
       "      <td>True</td>\n",
       "      <td>4293</td>\n",
       "      <td>4293</td>\n",
       "      <td>943</td>\n",
       "    </tr>\n",
       "    <tr>\n",
       "      <th>2</th>\n",
       "      <td>835</td>\n",
       "      <td>True</td>\n",
       "      <td>food</td>\n",
       "      <td>True</td>\n",
       "      <td>4031</td>\n",
       "      <td>4031</td>\n",
       "      <td>5126</td>\n",
       "    </tr>\n",
       "    <tr>\n",
       "      <th>3</th>\n",
       "      <td>2232</td>\n",
       "      <td>True</td>\n",
       "      <td>food</td>\n",
       "      <td>True</td>\n",
       "      <td>3858</td>\n",
       "      <td>3858</td>\n",
       "      <td>1337</td>\n",
       "    </tr>\n",
       "    <tr>\n",
       "      <th>4</th>\n",
       "      <td>3739</td>\n",
       "      <td>True</td>\n",
       "      <td>food</td>\n",
       "      <td>True</td>\n",
       "      <td>9787</td>\n",
       "      <td>9787</td>\n",
       "      <td>3026</td>\n",
       "    </tr>\n",
       "  </tbody>\n",
       "</table>\n",
       "</div>"
      ],
      "text/plain": [
       "   attending_count  can_guests_invite category  guest_list_enabled  \\\n",
       "0              644               True     food                True   \n",
       "1              846               True     food                True   \n",
       "2              835               True     food                True   \n",
       "3             2232               True     food                True   \n",
       "4             3739               True     food                True   \n",
       "\n",
       "   interested_count  maybe_count  noreply_count  \n",
       "0              5582         5582            531  \n",
       "1              4293         4293            943  \n",
       "2              4031         4031           5126  \n",
       "3              3858         3858           1337  \n",
       "4              9787         9787           3026  "
      ]
     },
     "execution_count": 13,
     "metadata": {},
     "output_type": "execute_result"
    }
   ],
   "source": [
    "ds.head()"
   ]
  },
  {
   "cell_type": "code",
   "execution_count": 14,
   "metadata": {},
   "outputs": [
    {
     "name": "stdout",
     "output_type": "stream",
     "text": [
      "attending_count\n",
      "can_guests_invite\n",
      "category\n",
      "guest_list_enabled\n",
      "interested_count\n",
      "maybe_count\n",
      "noreply_count\n"
     ]
    }
   ],
   "source": [
    "for col in ds.columns:\n",
    "    print col"
   ]
  },
  {
   "cell_type": "code",
   "execution_count": 15,
   "metadata": {},
   "outputs": [
    {
     "data": {
      "text/plain": [
       "(array([u'art', u'education', u'food', u'music', u'travel'], dtype=object),\n",
       " array([225, 171, 221, 222, 204]))"
      ]
     },
     "execution_count": 15,
     "metadata": {},
     "output_type": "execute_result"
    }
   ],
   "source": [
    "np.unique(ds['category'], return_counts=True)"
   ]
  },
  {
   "cell_type": "code",
   "execution_count": 16,
   "metadata": {},
   "outputs": [
    {
     "name": "stdout",
     "output_type": "stream",
     "text": [
      "(array([1, 2, 3, 4, 5]), array([225, 171, 221, 222, 204]))\n"
     ]
    }
   ],
   "source": [
    "cat_to_int = {'art': 1, 'education': 2, 'food': 3, 'music': 4, 'travel': 5}\n",
    "ds['category'] = ds['category'].map(cat_to_int)\n",
    "print np.unique(ds['category'], return_counts=True)"
   ]
  },
  {
   "cell_type": "code",
   "execution_count": 17,
   "metadata": {},
   "outputs": [
    {
     "data": {
      "text/html": [
       "<div>\n",
       "<style>\n",
       "    .dataframe thead tr:only-child th {\n",
       "        text-align: right;\n",
       "    }\n",
       "\n",
       "    .dataframe thead th {\n",
       "        text-align: left;\n",
       "    }\n",
       "\n",
       "    .dataframe tbody tr th {\n",
       "        vertical-align: top;\n",
       "    }\n",
       "</style>\n",
       "<table border=\"1\" class=\"dataframe\">\n",
       "  <thead>\n",
       "    <tr style=\"text-align: right;\">\n",
       "      <th></th>\n",
       "      <th>attending_count</th>\n",
       "      <th>can_guests_invite</th>\n",
       "      <th>category</th>\n",
       "      <th>guest_list_enabled</th>\n",
       "      <th>interested_count</th>\n",
       "      <th>maybe_count</th>\n",
       "      <th>noreply_count</th>\n",
       "    </tr>\n",
       "  </thead>\n",
       "  <tbody>\n",
       "    <tr>\n",
       "      <th>attending_count</th>\n",
       "      <td>1.000000</td>\n",
       "      <td>-0.116105</td>\n",
       "      <td>-0.022953</td>\n",
       "      <td>0.042121</td>\n",
       "      <td>0.587304</td>\n",
       "      <td>0.587304</td>\n",
       "      <td>0.275097</td>\n",
       "    </tr>\n",
       "    <tr>\n",
       "      <th>can_guests_invite</th>\n",
       "      <td>-0.116105</td>\n",
       "      <td>1.000000</td>\n",
       "      <td>-0.008454</td>\n",
       "      <td>-0.008872</td>\n",
       "      <td>-0.014266</td>\n",
       "      <td>-0.014266</td>\n",
       "      <td>-0.020965</td>\n",
       "    </tr>\n",
       "    <tr>\n",
       "      <th>category</th>\n",
       "      <td>-0.022953</td>\n",
       "      <td>-0.008454</td>\n",
       "      <td>1.000000</td>\n",
       "      <td>-0.016870</td>\n",
       "      <td>-0.032221</td>\n",
       "      <td>-0.032221</td>\n",
       "      <td>0.012845</td>\n",
       "    </tr>\n",
       "    <tr>\n",
       "      <th>guest_list_enabled</th>\n",
       "      <td>0.042121</td>\n",
       "      <td>-0.008872</td>\n",
       "      <td>-0.016870</td>\n",
       "      <td>1.000000</td>\n",
       "      <td>0.060650</td>\n",
       "      <td>0.060650</td>\n",
       "      <td>0.022309</td>\n",
       "    </tr>\n",
       "    <tr>\n",
       "      <th>interested_count</th>\n",
       "      <td>0.587304</td>\n",
       "      <td>-0.014266</td>\n",
       "      <td>-0.032221</td>\n",
       "      <td>0.060650</td>\n",
       "      <td>1.000000</td>\n",
       "      <td>1.000000</td>\n",
       "      <td>0.153942</td>\n",
       "    </tr>\n",
       "    <tr>\n",
       "      <th>maybe_count</th>\n",
       "      <td>0.587304</td>\n",
       "      <td>-0.014266</td>\n",
       "      <td>-0.032221</td>\n",
       "      <td>0.060650</td>\n",
       "      <td>1.000000</td>\n",
       "      <td>1.000000</td>\n",
       "      <td>0.153942</td>\n",
       "    </tr>\n",
       "    <tr>\n",
       "      <th>noreply_count</th>\n",
       "      <td>0.275097</td>\n",
       "      <td>-0.020965</td>\n",
       "      <td>0.012845</td>\n",
       "      <td>0.022309</td>\n",
       "      <td>0.153942</td>\n",
       "      <td>0.153942</td>\n",
       "      <td>1.000000</td>\n",
       "    </tr>\n",
       "  </tbody>\n",
       "</table>\n",
       "</div>"
      ],
      "text/plain": [
       "                    attending_count  can_guests_invite  category  \\\n",
       "attending_count            1.000000          -0.116105 -0.022953   \n",
       "can_guests_invite         -0.116105           1.000000 -0.008454   \n",
       "category                  -0.022953          -0.008454  1.000000   \n",
       "guest_list_enabled         0.042121          -0.008872 -0.016870   \n",
       "interested_count           0.587304          -0.014266 -0.032221   \n",
       "maybe_count                0.587304          -0.014266 -0.032221   \n",
       "noreply_count              0.275097          -0.020965  0.012845   \n",
       "\n",
       "                    guest_list_enabled  interested_count  maybe_count  \\\n",
       "attending_count               0.042121          0.587304     0.587304   \n",
       "can_guests_invite            -0.008872         -0.014266    -0.014266   \n",
       "category                     -0.016870         -0.032221    -0.032221   \n",
       "guest_list_enabled            1.000000          0.060650     0.060650   \n",
       "interested_count              0.060650          1.000000     1.000000   \n",
       "maybe_count                   0.060650          1.000000     1.000000   \n",
       "noreply_count                 0.022309          0.153942     0.153942   \n",
       "\n",
       "                    noreply_count  \n",
       "attending_count          0.275097  \n",
       "can_guests_invite       -0.020965  \n",
       "category                 0.012845  \n",
       "guest_list_enabled       0.022309  \n",
       "interested_count         0.153942  \n",
       "maybe_count              0.153942  \n",
       "noreply_count            1.000000  "
      ]
     },
     "execution_count": 17,
     "metadata": {},
     "output_type": "execute_result"
    }
   ],
   "source": [
    "ds.corr()"
   ]
  },
  {
   "cell_type": "code",
   "execution_count": 18,
   "metadata": {},
   "outputs": [
    {
     "data": {
      "text/plain": [
       "<matplotlib.axes._subplots.AxesSubplot at 0x7f53f4e4cc90>"
      ]
     },
     "execution_count": 18,
     "metadata": {},
     "output_type": "execute_result"
    },
    {
     "data": {
      "image/png": "[encoded data removed]",
      "text/plain": [
       "<matplotlib.figure.Figure at 0x7f53f4e4cb10>"
      ]
     },
     "metadata": {},
     "output_type": "display_data"
    }
   ],
   "source": [
    "plt.figure(figsize=(20,10))\n",
    "sns.heatmap(ds.corr())"
   ]
  },
  {
   "cell_type": "code",
   "execution_count": 19,
   "metadata": {
    "collapsed": true
   },
   "outputs": [],
   "source": [
    "label = ds['interested_count']\n",
    "data = ds\n",
    "del data['interested_count']"
   ]
  },
  {
   "cell_type": "code",
   "execution_count": 20,
   "metadata": {},
   "outputs": [
    {
     "data": {
      "text/plain": [
       "0    5582\n",
       "1    4293\n",
       "2    4031\n",
       "3    3858\n",
       "4    9787\n",
       "Name: interested_count, dtype: int64"
      ]
     },
     "execution_count": 20,
     "metadata": {},
     "output_type": "execute_result"
    }
   ],
   "source": [
    "label.head()"
   ]
  },
  {
   "cell_type": "code",
   "execution_count": 21,
   "metadata": {},
   "outputs": [
    {
     "data": {
      "text/html": [
       "<div>\n",
       "<style>\n",
       "    .dataframe thead tr:only-child th {\n",
       "        text-align: right;\n",
       "    }\n",
       "\n",
       "    .dataframe thead th {\n",
       "        text-align: left;\n",
       "    }\n",
       "\n",
       "    .dataframe tbody tr th {\n",
       "        vertical-align: top;\n",
       "    }\n",
       "</style>\n",
       "<table border=\"1\" class=\"dataframe\">\n",
       "  <thead>\n",
       "    <tr style=\"text-align: right;\">\n",
       "      <th></th>\n",
       "      <th>attending_count</th>\n",
       "      <th>can_guests_invite</th>\n",
       "      <th>category</th>\n",
       "      <th>guest_list_enabled</th>\n",
       "      <th>maybe_count</th>\n",
       "      <th>noreply_count</th>\n",
       "    </tr>\n",
       "  </thead>\n",
       "  <tbody>\n",
       "    <tr>\n",
       "      <th>0</th>\n",
       "      <td>644</td>\n",
       "      <td>True</td>\n",
       "      <td>3</td>\n",
       "      <td>True</td>\n",
       "      <td>5582</td>\n",
       "      <td>531</td>\n",
       "    </tr>\n",
       "    <tr>\n",
       "      <th>1</th>\n",
       "      <td>846</td>\n",
       "      <td>True</td>\n",
       "      <td>3</td>\n",
       "      <td>True</td>\n",
       "      <td>4293</td>\n",
       "      <td>943</td>\n",
       "    </tr>\n",
       "    <tr>\n",
       "      <th>2</th>\n",
       "      <td>835</td>\n",
       "      <td>True</td>\n",
       "      <td>3</td>\n",
       "      <td>True</td>\n",
       "      <td>4031</td>\n",
       "      <td>5126</td>\n",
       "    </tr>\n",
       "    <tr>\n",
       "      <th>3</th>\n",
       "      <td>2232</td>\n",
       "      <td>True</td>\n",
       "      <td>3</td>\n",
       "      <td>True</td>\n",
       "      <td>3858</td>\n",
       "      <td>1337</td>\n",
       "    </tr>\n",
       "    <tr>\n",
       "      <th>4</th>\n",
       "      <td>3739</td>\n",
       "      <td>True</td>\n",
       "      <td>3</td>\n",
       "      <td>True</td>\n",
       "      <td>9787</td>\n",
       "      <td>3026</td>\n",
       "    </tr>\n",
       "  </tbody>\n",
       "</table>\n",
       "</div>"
      ],
      "text/plain": [
       "   attending_count  can_guests_invite  category  guest_list_enabled  \\\n",
       "0              644               True         3                True   \n",
       "1              846               True         3                True   \n",
       "2              835               True         3                True   \n",
       "3             2232               True         3                True   \n",
       "4             3739               True         3                True   \n",
       "\n",
       "   maybe_count  noreply_count  \n",
       "0         5582            531  \n",
       "1         4293            943  \n",
       "2         4031           5126  \n",
       "3         3858           1337  \n",
       "4         9787           3026  "
      ]
     },
     "execution_count": 21,
     "metadata": {},
     "output_type": "execute_result"
    }
   ],
   "source": [
    "data.head()"
   ]
  },
  {
   "cell_type": "code",
   "execution_count": 22,
   "metadata": {
    "collapsed": true
   },
   "outputs": [],
   "source": [
    "data = np.asarray(data)\n",
    "label = np.asarray(label)"
   ]
  },
  {
   "cell_type": "code",
   "execution_count": 23,
   "metadata": {},
   "outputs": [
    {
     "name": "stdout",
     "output_type": "stream",
     "text": [
      "Data Shape:  (1043, 6)\n",
      "Label Shape:  (1043,)\n"
     ]
    }
   ],
   "source": [
    "print 'Data Shape: ',  data.shape\n",
    "print 'Label Shape: ', label.shape"
   ]
  },
  {
   "cell_type": "code",
   "execution_count": 24,
   "metadata": {},
   "outputs": [
    {
     "name": "stdout",
     "output_type": "stream",
     "text": [
      "Training Dataset:  (782, 6)\n",
      "Training Labels:   (782,)\n",
      "Testing Dataset:   (261, 6)\n",
      "Testing Labels:    (261,)\n"
     ]
    }
   ],
   "source": [
    "split = int(0.75*data.shape[0])\n",
    "X_train = data[:split, :]\n",
    "y_train = label[:split]\n",
    "\n",
    "X_test = data[split:, :]\n",
    "y_test = label[split:]\n",
    "\n",
    "print \"Training Dataset: \", X_train.shape\n",
    "print \"Training Labels:  \",  y_train.shape\n",
    "print \"Testing Dataset:  \",  X_test.shape\n",
    "print \"Testing Labels:   \",   y_test.shape"
   ]
  },
  {
   "cell_type": "code",
   "execution_count": 25,
   "metadata": {},
   "outputs": [
    {
     "data": {
      "text/plain": [
       "RandomForestRegressor(bootstrap=True, criterion='mse', max_depth=None,\n",
       "           max_features='auto', max_leaf_nodes=None,\n",
       "           min_impurity_decrease=0.0, min_impurity_split=None,\n",
       "           min_samples_leaf=1, min_samples_split=2,\n",
       "           min_weight_fraction_leaf=0.0, n_estimators=200, n_jobs=-1,\n",
       "           oob_score=False, random_state=None, verbose=0, warm_start=False)"
      ]
     },
     "execution_count": 25,
     "metadata": {},
     "output_type": "execute_result"
    }
   ],
   "source": [
    "rf = RFR(n_estimators=200, n_jobs=-1)\n",
    "\n",
    "rf.fit(X_train, y_train)\n"
   ]
  },
  {
   "cell_type": "code",
   "execution_count": 26,
   "metadata": {},
   "outputs": [
    {
     "data": {
      "text/plain": [
       "[u'attending_count',\n",
       " u'can_guests_invite',\n",
       " u'category',\n",
       " u'guest_list_enabled',\n",
       " u'maybe_count',\n",
       " u'noreply_count']"
      ]
     },
     "execution_count": 26,
     "metadata": {},
     "output_type": "execute_result"
    }
   ],
   "source": [
    "col_int_list = []\n",
    "for col in ds.columns:\n",
    "    col_int_list.append(col)\n",
    "col_int_list"
   ]
  },
  {
   "cell_type": "code",
   "execution_count": 27,
   "metadata": {},
   "outputs": [
    {
     "name": "stdout",
     "output_type": "stream",
     "text": [
      "Feature ranking:\n",
      "1. feature 4 - maybe_count => (0.995014)\n",
      "2. feature 5 - noreply_count => (0.003644)\n",
      "3. feature 0 - attending_count => (0.001003)\n",
      "4. feature 2 - category => (0.000323)\n",
      "5. feature 1 - can_guests_invite => (0.000016)\n",
      "6. feature 3 - guest_list_enabled => (0.000000)\n"
     ]
    }
   ],
   "source": [
    "importances = rf.feature_importances_\n",
    "std = np.std([tree.feature_importances_ for tree in rf.estimators_], axis=0)\n",
    "indices = np.argsort(importances)[::-1]\n",
    "\n",
    "# Print the feature ranking\n",
    "print(\"Feature ranking:\")\n",
    "\n",
    "for f in range(X_train.shape[1]):\n",
    "    print(\"%d. feature %d - %s => (%f)\" % (f + 1, indices[f], col_int_list[indices[f]] , importances[indices[f]]))"
   ]
  },
  {
   "cell_type": "code",
   "execution_count": 28,
   "metadata": {},
   "outputs": [
    {
     "data": {
      "image/png": "[encoded data removed]",
      "text/plain": [
       "<matplotlib.figure.Figure at 0x7f53f5122590>"
      ]
     },
     "metadata": {},
     "output_type": "display_data"
    }
   ],
   "source": [
    "# Plot the feature importances of the forest\n",
    "plt.figure(figsize=(8,5))\n",
    "plt.title(\"Feature importances\")\n",
    "plt.bar(range(X_train.shape[1]), importances[indices],\n",
    "       color=\"r\", yerr=std[indices], align=\"center\")\n",
    "plt.xticks(range(X_train.shape[1]), indices, rotation='vertical')\n",
    "plt.xlim([-1, X_train.shape[1]])\n",
    "plt.show()"
   ]
  },
  {
   "cell_type": "code",
   "execution_count": 29,
   "metadata": {
    "collapsed": true,
    "scrolled": true
   },
   "outputs": [],
   "source": [
    "true_values = []\n",
    "predicted_values = []\n",
    "for ix in random.sample(range(0,261), 50):\n",
    "    predicted_values.append(int(rf.predict([X_test[ix]])[0]))\n",
    "    true_values.append(y_test[ix])"
   ]
  },
  {
   "cell_type": "code",
   "execution_count": 30,
   "metadata": {},
   "outputs": [
    {
     "name": "stdout",
     "output_type": "stream",
     "text": [
      "4582 4589\n",
      "4443 4442\n",
      "2583 2556\n",
      "10234 10241\n",
      "9244 9248\n"
     ]
    }
   ],
   "source": [
    "for ix in range(5):\n",
    "    print predicted_values[ix], true_values[ix]"
   ]
  },
  {
   "cell_type": "code",
   "execution_count": 31,
   "metadata": {},
   "outputs": [
    {
     "name": "stdout",
     "output_type": "stream",
     "text": [
      "98.7407781048\n"
     ]
    }
   ],
   "source": [
    "print rf.score(X_test, y_test)*100"
   ]
  },
  {
   "cell_type": "code",
   "execution_count": 32,
   "metadata": {},
   "outputs": [
    {
     "data": {
      "text/plain": [
       "[u'attending_count',\n",
       " u'can_guests_invite',\n",
       " u'category',\n",
       " u'guest_list_enabled',\n",
       " u'maybe_count',\n",
       " u'noreply_count']"
      ]
     },
     "execution_count": 32,
     "metadata": {},
     "output_type": "execute_result"
    }
   ],
   "source": [
    "[u'attending_count',\n",
    " u'can_guests_invite',\n",
    " u'category',\n",
    " u'guest_list_enabled',\n",
    " u'maybe_count',\n",
    " u'noreply_count']"
   ]
  },
  {
   "cell_type": "code",
   "execution_count": 33,
   "metadata": {},
   "outputs": [
    {
     "data": {
      "text/plain": [
       "array([4, True, 2, True, 99, 0], dtype=object)"
      ]
     },
     "execution_count": 33,
     "metadata": {},
     "output_type": "execute_result"
    }
   ],
   "source": [
    "X_test[0]"
   ]
  },
  {
   "cell_type": "code",
   "execution_count": 34,
   "metadata": {
    "collapsed": true
   },
   "outputs": [],
   "source": [
    "t = [1394, True, 4, True, 11204, 417]"
   ]
  },
  {
   "cell_type": "code",
   "execution_count": 35,
   "metadata": {},
   "outputs": [
    {
     "data": {
      "text/plain": [
       "11168"
      ]
     },
     "execution_count": 35,
     "metadata": {},
     "output_type": "execute_result"
    }
   ],
   "source": [
    "int(rf.predict([t]))"
   ]
  },
  {
   "cell_type": "code",
   "execution_count": 36,
   "metadata": {
    "collapsed": true
   },
   "outputs": [],
   "source": [
    "X2_train = np.delete(X_train, [2,4], axis=1)\n",
    "X2_test = np.delete(X_test, [2,4], axis=1)"
   ]
  },
  {
   "cell_type": "code",
   "execution_count": 37,
   "metadata": {},
   "outputs": [
    {
     "name": "stdout",
     "output_type": "stream",
     "text": [
      "(782, 4) (261, 4)\n"
     ]
    }
   ],
   "source": [
    "print X2_train.shape, X2_test.shape"
   ]
  },
  {
   "cell_type": "code",
   "execution_count": 38,
   "metadata": {},
   "outputs": [
    {
     "name": "stdout",
     "output_type": "stream",
     "text": [
      "1 1 => 15.6704872282\n",
      "1 3 => 22.6793582268\n",
      "1 5 => 21.7327037917\n",
      "1 7 => 3.50003507875\n",
      "1 9 => 8.52414248976\n",
      "1 11 => -0.99561072893\n",
      "1 13 => -19.2653127225\n",
      "1 15 => 3.49560269866\n",
      "1 17 => -58.9722028884\n",
      "1 19 => 14.3892702638\n",
      "101 1 => 37.7546906574\n",
      "101 3 => 41.4859842146\n",
      "101 5 => 44.865710908\n",
      "101 7 => 44.7555000938\n",
      "101 9 => 43.4787664958\n",
      "101 11 => 43.5305745934\n",
      "101 13 => 41.0119573776\n",
      "101 15 => 38.0041395952\n",
      "101 17 => 40.9382880406\n",
      "101 19 => 38.6299375198\n",
      "201 1 => 37.8822018396\n",
      "201 3 => 43.1987837022\n",
      "201 5 => 44.1010243065\n",
      "201 7 => 44.1925629792\n",
      "201 9 => 41.2820785006\n",
      "201 11 => 42.1841314844\n",
      "201 13 => 40.9032041339\n",
      "201 15 => 40.3246739882\n",
      "201 17 => 41.8306169755\n",
      "201 19 => 41.3263549332\n",
      "301 1 => 36.3958585985\n",
      "301 3 => 43.776313842\n",
      "301 5 => 44.0635856908\n",
      "301 7 => 44.9997266262\n",
      "301 9 => 43.4072438588\n",
      "301 11 => 42.4026938495\n",
      "301 13 => 41.9089931916\n",
      "301 15 => 40.8822698416\n",
      "301 17 => 41.5138167286\n",
      "301 19 => 40.1387113272\n",
      "401 1 => 36.9654117091\n",
      "401 3 => 43.0746174871\n",
      "401 5 => 44.456784518\n",
      "401 7 => 43.6860798059\n",
      "401 9 => 43.7984497753\n",
      "401 11 => 42.4306982262\n",
      "401 13 => 41.010112504\n",
      "401 15 => 41.8288663246\n",
      "401 17 => 41.8617431643\n",
      "401 19 => 41.2625220337\n",
      "501 1 => 36.2244533943\n",
      "501 3 => 43.5444250869\n",
      "501 5 => 45.6822736688\n",
      "501 7 => 43.1919773143\n",
      "501 9 => 43.2526928417\n",
      "501 11 => 42.1445041811\n",
      "501 13 => 42.4150673612\n",
      "501 15 => 41.0220735222\n",
      "501 17 => 41.4195567396\n",
      "501 19 => 41.1362749959\n",
      "601 1 => 37.3763687193\n",
      "601 3 => 44.4986990185\n",
      "601 5 => 44.5370366111\n",
      "601 7 => 43.9077606556\n",
      "601 9 => 42.7400460488\n",
      "601 11 => 41.6838107423\n",
      "601 13 => 41.2681217236\n",
      "601 15 => 40.956282231\n",
      "601 17 => 42.1085101229\n",
      "601 19 => 41.9328312999\n",
      "701 1 => 37.4336626803\n",
      "701 3 => 43.4921405578\n",
      "701 5 => 45.2193531364\n",
      "701 7 => 44.9340993268\n",
      "701 9 => 42.466687944\n",
      "701 11 => 42.0031540675\n",
      "701 13 => 42.7374209066\n",
      "701 15 => 40.8904678738\n",
      "701 17 => 41.1735100398\n",
      "701 19 => 41.6124271748\n",
      "801 1 => 37.4573935677\n",
      "801 3 => 43.2675420207\n",
      "801 5 => 45.0460400071\n",
      "801 7 => 44.4074899821\n",
      "801 9 => 43.3092737978\n",
      "801 11 => 40.9791599399\n",
      "801 13 => 42.8241531931\n",
      "801 15 => 41.6108753523\n",
      "801 17 => 41.5034313272\n",
      "801 19 => 41.888475003\n",
      "901 1 => 37.6917791987\n",
      "901 3 => 43.2307649064\n",
      "901 5 => 45.1032789051\n",
      "901 7 => 44.0141206777\n",
      "901 9 => 44.1089894756\n",
      "901 11 => 42.0117389136\n",
      "901 13 => 41.9529068152\n",
      "901 15 => 41.3199540398\n",
      "901 17 => 42.0850916241\n",
      "901 19 => 42.0080827717\n",
      "1001 1 => 36.8905530359\n",
      "1001 3 => 43.2463521846\n",
      "1001 5 => 45.0093215977\n",
      "1001 7 => 43.6760574959\n",
      "1001 9 => 43.318179901\n",
      "1001 11 => 42.1334473077\n",
      "1001 13 => 42.4279925577\n",
      "1001 15 => 41.382662487\n",
      "1001 17 => 41.3360040929\n",
      "1001 19 => 42.1446474193\n",
      "1101 1 => 37.1834584477\n",
      "1101 3 => 43.3631185383\n",
      "1101 5 => 44.4221851121\n",
      "1101 7 => 43.9580988638\n",
      "1101 9 => 43.1856962991\n",
      "1101 11 => 42.4983157671\n",
      "1101 13 => 41.4315872953\n",
      "1101 15 => 41.7642682448\n",
      "1101 17 => 40.9173166401\n",
      "1101 19 => 41.3244025869\n",
      "1201 1 => 36.9015846485\n",
      "1201 3 => 42.9353818281\n",
      "1201 5 => 44.3820145209\n",
      "1201 7 => 43.6602662369\n",
      "1201 9 => 42.4944093169\n",
      "1201 11 => 42.5110387122\n",
      "1201 13 => 41.8776426937\n",
      "1201 15 => 41.5937707085\n",
      "1201 17 => 41.6704191254\n",
      "1201 19 => 40.8184938647\n",
      "1301 1 => 37.676706126\n",
      "1301 3 => 43.2026305941\n",
      "1301 5 => 44.0062825326\n",
      "1301 7 => 44.7657037355\n",
      "1301 9 => 43.0270316897\n",
      "1301 11 => 42.6476072578\n",
      "1301 13 => 42.2379355057\n",
      "1301 15 => 41.832967502\n",
      "1301 17 => 41.3970059729\n",
      "1301 19 => 41.7971078503\n",
      "1401 1 => 37.2993523323\n",
      "1401 3 => 43.4214368975\n",
      "1401 5 => 45.2611277727\n",
      "1401 7 => 44.2292720206\n",
      "1401 9 => 43.5249796171\n",
      "1401 11 => 42.5231460933\n",
      "1401 13 => 41.5806066023\n",
      "1401 15 => 42.0245818199\n",
      "1401 17 => 41.8679811932\n",
      "1401 19 => 41.9422134918\n",
      "1501 1 => 37.3530196765\n",
      "1501 3 => 43.2808426641\n",
      "1501 5 => 44.9062168339\n",
      "1501 7 => 44.0126408298\n",
      "1501 9 => 43.1608845187\n",
      "1501 11 => 41.9329590226\n",
      "1501 13 => 42.1163787448\n",
      "1501 15 => 41.5639965732\n",
      "1501 17 => 41.5059515942\n",
      "1501 19 => 42.0542690016\n",
      "1601 1 => 37.5689793096\n",
      "1601 3 => 43.1521715951\n",
      "1601 5 => 45.3142992571\n",
      "1601 7 => 44.3179816084\n",
      "1601 9 => 44.0549318261\n",
      "1601 11 => 42.355427667\n",
      "1601 13 => 42.0110152998\n",
      "1601 15 => 41.501048619\n",
      "1601 17 => 42.0326043608\n",
      "1601 19 => 41.2240116439\n",
      "1701 1 => 37.2029009969\n",
      "1701 3 => 43.5246107361\n",
      "1701 5 => 44.2484641826\n",
      "1701 7 => 44.5946902252\n",
      "1701 9 => 42.9409449605\n",
      "1701 11 => 42.345878787\n",
      "1701 13 => 42.2183832252\n",
      "1701 15 => 41.9070733437\n",
      "1701 17 => 41.6839929386\n",
      "1701 19 => 41.7336490769\n",
      "1801 1 => 37.3803907487\n",
      "1801 3 => 43.3095406201\n",
      "1801 5 => 44.5519498697\n",
      "1801 7 => 44.3232737019\n",
      "1801 9 => 43.5755940801\n",
      "1801 11 => 42.894535794\n",
      "1801 13 => 42.4579375791\n",
      "1801 15 => 41.8316574472\n",
      "1801 17 => 41.4609577737\n",
      "1801 19 => 42.2530276718\n",
      "1901 1 => 37.4633081116\n",
      "1901 3 => 43.5949536442\n",
      "1901 5 => 45.1195618566\n",
      "1901 7 => 44.7971363278\n",
      "1901 9 => 43.7103990334\n",
      "1901 11 => 41.6018065153\n",
      "1901 13 => 41.9794436678\n",
      "1901 15 => 42.126901214\n",
      "1901 17 => 40.9790474382\n",
      "1901 19 => 41.0140101933\n"
     ]
    }
   ],
   "source": [
    "for ix in range(1,2000, 100):\n",
    "    for iy in range(1,20, 2):\n",
    "        rf2 = RFR(n_estimators=ix, n_jobs=-1, max_depth=iy)\n",
    "        rf2.fit(X2_train, y_train)\n",
    "        print ix, iy, \"=>\", rf2.score(X2_test,y_test)*100"
   ]
  },
  {
   "cell_type": "code",
   "execution_count": 42,
   "metadata": {},
   "outputs": [
    {
     "data": {
      "text/plain": [
       "array([ 7315.42200604])"
      ]
     },
     "execution_count": 42,
     "metadata": {},
     "output_type": "execute_result"
    }
   ],
   "source": [
    "t2 = [1394, True, True, 417]\n",
    "rf2.predict([t2])"
   ]
  },
  {
   "cell_type": "code",
   "execution_count": 43,
   "metadata": {},
   "outputs": [
    {
     "name": "stdout",
     "output_type": "stream",
     "text": [
      "Feature ranking:\n",
      "1. feature 0 => (0.745800)\n",
      "2. feature 3 => (0.248395)\n",
      "3. feature 1 => (0.005707)\n",
      "4. feature 2 => (0.000098)\n"
     ]
    }
   ],
   "source": [
    "importances = rf2.feature_importances_\n",
    "std = np.std([tree.feature_importances_ for tree in rf2.estimators_], axis=0)\n",
    "indices = np.argsort(importances)[::-1]\n",
    "\n",
    "# Print the feature ranking\n",
    "print(\"Feature ranking:\")\n",
    "\n",
    "for f in range(X2_train.shape[1]):\n",
    "    print(\"%d. feature %d => (%f)\" % (f + 1, indices[f] , importances[indices[f]]))"
   ]
  },
  {
   "cell_type": "code",
   "execution_count": null,
   "metadata": {
    "collapsed": true
   },
   "outputs": [],
   "source": []
  }
 ],
 "metadata": {
  "kernelspec": {
   "display_name": "Python 2",
   "language": "python",
   "name": "python2"
  },
  "language_info": {
   "codemirror_mode": {
    "name": "ipython",
    "version": 2
   },
   "file_extension": ".py",
   "mimetype": "text/x-python",
   "name": "python",
   "nbconvert_exporter": "python",
   "pygments_lexer": "ipython2",
   "version": "2.7.12"
  }
 },
 "nbformat": 4,
 "nbformat_minor": 2
}
